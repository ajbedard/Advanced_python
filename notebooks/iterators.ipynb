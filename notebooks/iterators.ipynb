{
 "cells": [
  {
   "cell_type": "code",
   "execution_count": 1,
   "id": "098ad373",
   "metadata": {},
   "outputs": [],
   "source": [
    "import csv\n",
    "from datetime import datetime"
   ]
  },
  {
   "cell_type": "code",
   "execution_count": null,
   "id": "e3360cfc",
   "metadata": {},
   "outputs": [],
   "source": [
    "def get_dates_above_threshold(file_path, threshold):\n",
    "    \"\"\"\n",
    "    Read the stock price data from a CSV file and return a list of datetimes where\n",
    "    either the 'high' or the 'close' price is above the given threshold value.\n",
    "\n",
    "    Args:\n",
    "        file_path (str): The file path of the stock price data CSV file.\n",
    "        threshold (float): The price threshold to compare against 'high' and 'close' prices.\n",
    "\n",
    "    Returns:\n",
    "        list: A list of datetime objects representing the dates where the condition is met.\n",
    "    \"\"\"\n",
    "    stock_price_reader = StockPriceReader(file_path, threshold)\n",
    "    dates_above_threshold = []\n",
    "\n",
    "    for date in stock_price_reader:\n",
    "        dates_above_threshold.append(date)\n",
    "\n",
    "    return dates_above_threshold"
   ]
  },
  {
   "cell_type": "code",
   "execution_count": 2,
   "id": "9b90640a",
   "metadata": {},
   "outputs": [],
   "source": [
    "class StockPriceReader:\n",
    "    def __init__(self, file_path, threshold):\n",
    "        self.file = open(file_path, \"r\")\n",
    "        self.reader = csv.reader(self.file)\n",
    "        self.headers = next(self.reader)\n",
    "        self.threshold = threshold\n",
    "    \n",
    "\n",
    "    def __iter__(self):\n",
    "        # Return the instance of the iterator (i.e., return self)\n",
    "        pass\n",
    "\n",
    "    def __next__(self):\n",
    "        try:\n",
    "            # Read the next row from the csv.reader object (call variable: `row`)\n",
    "            pass\n",
    "        except StopIteration:\n",
    "            # If the row is empty, close the file and raise a StopIteration exception\n",
    "            pass\n",
    "        \n",
    "        stock_data = {header: value for header, value in zip(self.headers, row)}\n",
    "        high_price = float(stock_data[\"high\"])\n",
    "        datetime_obj = datetime.strptime(stock_data[\"datetime\"], \"%Y-%m-%d %H:%M:%S\")\n",
    "\n",
    "        # If the 'high' price is above the threshold, return the datetime\n",
    "        # Otherwise, continue with the next row (i.e., call the __next__() method recursively)\n",
    "        pass"
   ]
  },
  {
   "cell_type": "code",
   "execution_count": null,
   "id": "fd2c0fcf",
   "metadata": {},
   "outputs": [],
   "source": [
    "file_path = \"../data/iterators/dummy_stock_data.csv\"\n",
    "threshold = 1000\n",
    "dates_above_threshold = get_dates_above_threshold(file_path, threshold)\n",
    "print(dates_above_threshold)"
   ]
  }
 ],
 "metadata": {
  "kernelspec": {
   "display_name": "Python 3 (ipykernel)",
   "language": "python",
   "name": "python3"
  },
  "language_info": {
   "codemirror_mode": {
    "name": "ipython",
    "version": 3
   },
   "file_extension": ".py",
   "mimetype": "text/x-python",
   "name": "python",
   "nbconvert_exporter": "python",
   "pygments_lexer": "ipython3",
   "version": "3.10.11"
  }
 },
 "nbformat": 4,
 "nbformat_minor": 5
}