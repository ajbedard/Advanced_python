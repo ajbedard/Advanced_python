{
 "cells": [
  {
   "cell_type": "code",
   "execution_count": null,
   "id": "9d1bbb5e",
   "metadata": {},
   "outputs": [],
   "source": [
    "import csv"
   ]
  },
  {
   "cell_type": "code",
   "execution_count": null,
   "id": "757c5e8e",
   "metadata": {},
   "outputs": [],
   "source": [
    "def dates_above_threshold_gen(file_path, threshold):\n",
    "    # Open the CSV file and create a reader object\n",
    "    with open(file_path, 'r') as csv_file:\n",
    "        reader = csv.DictReader(csv_file)\n",
    "        \n",
    "        # Iterate through the CSV rows\n",
    "            # Check if the 'high' value is above the threshold\n",
    "                # If the condition is met, yield the 'datetime' value for that row"
   ]
  },
  {
   "cell_type": "code",
   "execution_count": null,
   "id": "a4f92c67",
   "metadata": {},
   "outputs": [],
   "source": [
    "file_path = \"../data/iterators/dummy_stock_data.csv\"\n",
    "threshold = 1000\n",
    "\n",
    "for date in dates_above_threshold_gen(file_path, threshold):\n",
    "    print(date)"
   ]
  },
  {
   "cell_type": "code",
   "execution_count": null,
   "id": "1f1167b1",
   "metadata": {},
   "outputs": [],
   "source": []
  }
 ],
 "metadata": {
  "kernelspec": {
   "display_name": "Python 3 (ipykernel)",
   "language": "python",
   "name": "python3"
  },
  "language_info": {
   "codemirror_mode": {
    "name": "ipython",
    "version": 3
   },
   "file_extension": ".py",
   "mimetype": "text/x-python",
   "name": "python",
   "nbconvert_exporter": "python",
   "pygments_lexer": "ipython3",
   "version": "3.10.11"
  }
 },
 "nbformat": 4,
 "nbformat_minor": 5
}
