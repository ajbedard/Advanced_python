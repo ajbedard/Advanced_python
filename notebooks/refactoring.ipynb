{
 "cells": [
  {
   "cell_type": "code",
   "execution_count": 1,
   "metadata": {
    "collapsed": true
   },
   "outputs": [],
   "source": [
    "import pandas as pd\n",
    "import numpy as np"
   ]
  },
  {
   "cell_type": "code",
   "execution_count": 2,
   "outputs": [],
   "source": [
    "def calculate_correlation_and_covariance(data, selected_columns):\n",
    "    \"\"\"\n",
    "    This function calculates and returns the correlation and covariance matrices for the given data.\n",
    "\n",
    "    Args:\n",
    "        data (pd.DataFrame): A pandas DataFrame containing the input data.\n",
    "        selected_columns (list): A list of column names to calculate the correlation and covariance matrices.\n",
    "\n",
    "    Returns:\n",
    "        pd.DataFrame, pd.DataFrame: The correlation and covariance matrices as pandas DataFrames.\n",
    "    \"\"\"\n",
    "\n",
    "    # Create an empty dictionary to store the results\n",
    "    correlation_results = {}\n",
    "    covariance_results = {}\n",
    "\n",
    "    # Calculate the correlation and covariance matrices for the selected columns\n",
    "    # Iterate over each unique pair of columns\n",
    "    for col1 in selected_columns:\n",
    "        for col2 in selected_columns:\n",
    "            # If the pair consists of the same column\n",
    "            if col1 == col2:\n",
    "                # The correlation is 1 and the covariance is the variance\n",
    "                correlation_results[(col1, col2)] = 1\n",
    "                covariance_results[(col1, col2)] = np.var(data[col1])\n",
    "            else:\n",
    "                # Compute the correlation and covariance for distinct columns\n",
    "                correlation = np.corrcoef(data[col1], data[col2])[0][1]\n",
    "                covariance = np.cov(data[col1], data[col2])[0][1]\n",
    "                # Store these values in the respective dictionaries\n",
    "                correlation_results[(col1, col2)] = correlation\n",
    "                covariance_results[(col1, col2)] = covariance\n",
    "\n",
    "    # Convert the results to DataFrames for easier visualization and manipulation\n",
    "    # The unstack() method is used to reshape the DataFrame\n",
    "    correlation_df = pd.DataFrame(correlation_results, index=[0]).T.unstack()\n",
    "    correlation_df.columns = selected_columns\n",
    "    correlation_df.index = selected_columns\n",
    "\n",
    "    covariance_df = pd.DataFrame(covariance_results, index=[0]).T.unstack()\n",
    "    covariance_df.columns = selected_columns\n",
    "    covariance_df.index = selected_columns\n",
    "\n",
    "    # Return the correlation and covariance matrices as pandas DataFrames\n",
    "    return correlation_df, covariance_df"
   ],
   "metadata": {
    "collapsed": false,
    "pycharm": {
     "name": "#%%\n"
    }
   }
  },
  {
   "cell_type": "code",
   "execution_count": null,
   "outputs": [],
   "source": [
    "# Load your data\n",
    "data = pd.read_csv('../data/refactoring/dummy_data.csv')\n",
    "\n",
    "# Select the columns for which you want to calculate the correlation and covariance matrices\n",
    "selected_columns = ['Age', 'Income', 'Spending']\n",
    "\n",
    "# Call the function with the loaded data and selected columns\n",
    "correlation_matrix, covariance_matrix = calculate_correlation_and_covariance(data, selected_columns)\n",
    "\n",
    "# Print the correlation and covariance matrices\n",
    "print(\"Correlation Matrix:\")\n",
    "print(correlation_matrix)\n",
    "print(\"\\nCovariance Matrix:\")\n",
    "print(covariance_matrix)"
   ],
   "metadata": {
    "collapsed": false,
    "pycharm": {
     "name": "#%%\n",
     "is_executing": true
    }
   }
  },
  {
   "cell_type": "code",
   "execution_count": null,
   "outputs": [],
   "source": [],
   "metadata": {
    "collapsed": false,
    "pycharm": {
     "name": "#%%\n"
    }
   }
  }
 ],
 "metadata": {
  "kernelspec": {
   "display_name": "Python 3",
   "language": "python",
   "name": "python3"
  },
  "language_info": {
   "codemirror_mode": {
    "name": "ipython",
    "version": 2
   },
   "file_extension": ".py",
   "mimetype": "text/x-python",
   "name": "python",
   "nbconvert_exporter": "python",
   "pygments_lexer": "ipython2",
   "version": "2.7.6"
  }
 },
 "nbformat": 4,
 "nbformat_minor": 0
}